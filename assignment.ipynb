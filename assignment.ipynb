{
 "cells": [
  {
   "cell_type": "code",
   "execution_count": 1,
   "metadata": {},
   "outputs": [],
   "source": [
    "from mymodule import MyClass\n",
    "m = MyClass()"
   ]
  },
  {
   "cell_type": "code",
   "execution_count": 2,
   "metadata": {},
   "outputs": [
    {
     "name": "stderr",
     "output_type": "stream",
     "text": [
      "Found 44 cities\n"
     ]
    }
   ],
   "source": [
    "m.retrieve_cities(country='GB',percentile=5)"
   ]
  },
  {
   "cell_type": "code",
   "execution_count": 3,
   "metadata": {},
   "outputs": [
    {
     "name": "stderr",
     "output_type": "stream",
     "text": [
      "Travel times and distances obtained\n"
     ]
    }
   ],
   "source": [
    "m.calculate_travel()"
   ]
  },
  {
   "cell_type": "code",
   "execution_count": 4,
   "metadata": {},
   "outputs": [
    {
     "name": "stdout",
     "output_type": "stream",
     "text": [
      "+---------------------+------------+----------+--------------+----------+-------------+\n",
      "|         City        | Population | car_time | car_distance | pb_time  | pb_distance |\n",
      "+---------------------+------------+----------+--------------+----------+-------------+\n",
      "|        London       |  7421228   | 00:11:00 |    3.1 km    | 00:03:00 |    0.5 km   |\n",
      "|      Birmingham     |   984336   |   None   |     None     |   None   |     None    |\n",
      "|       Glasgow       |   610271   | 06:58:00 |    667 km    | 04:48:00 |    650 km   |\n",
      "|       Belfast       |   585994   | 10:11:00 |    783 km    | 16:03:00 |    757 km   |\n",
      "|      Liverpool      |   468946   | 04:12:00 |    358 km    | 02:31:00 |    381 km   |\n",
      "|        Leeds        |   455124   | 03:44:00 |    316 km    | 02:35:00 |    304 km   |\n",
      "|      Sheffield      |   447048   | 03:20:00 |    271 km    | 02:47:00 |    270 km   |\n",
      "|      Edinburgh      |   435794   | 07:27:00 |    669 km    | 04:58:00 |    637 km   |\n",
      "|       Bristol       |   430714   |   None   |     None     |   None   |     None    |\n",
      "|      Manchester     |   395516   | 04:02:00 |    338 km    | 02:28:00 |    308 km   |\n",
      "|      Leicester      |   339240   | 02:16:00 |    164 km    | 01:25:00 |    164 km   |\n",
      "|       Coventry      |   308314   |   None   |     None     |   None   |     None    |\n",
      "|  Kingston upon Hull |   302297   | 04:01:00 |    303 km    | 03:27:00 |    321 km   |\n",
      "|       Cardiff       |   302142   | 02:50:00 |    243 km    | 02:42:00 |    240 km   |\n",
      "|       Bradford      |   299310   |   None   |     None     |   None   |     None    |\n",
      "|    Stoke-on-Trent   |   260420   | 03:01:00 |    271 km    | 01:55:00 |    239 km   |\n",
      "|    Wolverhampton    |   252792   | 02:46:00 |    226 km    | 02:06:00 |    207 km   |\n",
      "|       Plymouth      |   247298   |   None   |     None     |   None   |     None    |\n",
      "|      Nottingham     |   246655   | 02:41:00 |    206 km    | 02:02:00 |    208 km   |\n",
      "|     Southampton     |   246201   | 01:41:00 |    126 km    | 01:26:00 |    126 km   |\n",
      "|       Reading       |   244071   | 01:09:00 |   65.2 km    | 01:02:00 |   64.7 km   |\n",
      "|        Derby        |   235029   |   None   |     None     |   None   |     None    |\n",
      "|        Dudley       |   199060   |   None   |     None     |   None   |     None    |\n",
      "|     Northampton     |   197323   |   None   |     None     |   None   |     None    |\n",
      "|      Portsmouth     |   194151   |   None   |     None     |   None   |     None    |\n",
      "|        Luton        |   193670   | 01:04:00 |   55.2 km    | 00:52:00 |   51.4 km   |\n",
      "| Newcastle upon Tyne |   192382   | 05:14:00 |    445 km    | 03:11:00 |    437 km   |\n",
      "|       Preston       |   190688   |   None   |     None     |   None   |     None    |\n",
      "|       Aberdeen      |   183791   | 09:17:00 |    881 km    | 07:15:00 |    846 km   |\n",
      "|      Sunderland     |   177965   | 05:07:00 |    435 km    | 04:16:00 |    457 km   |\n",
      "|       Norwich       |   177636   |   None   |     None     |   None   |     None    |\n",
      "|     Bournemouth     |   175017   | 02:07:00 |    172 km    | 02:06:00 |    172 km   |\n",
      "|       Walsall       |   172142   | 02:34:00 |    215 km    | 02:28:00 |    203 km   |\n",
      "|       Swansea       |   170885   | 03:29:00 |    302 km    | 03:34:00 |    313 km   |\n",
      "|   Southend-on-Sea   |   163378   | 01:22:00 |   70.5 km    | 01:13:00 |   63.0 km   |\n",
      "|       Swindon       |   162439   | 01:43:00 |    128 km    | 01:26:00 |    131 km   |\n",
      "|        Oxford       |   154567   |   None   |     None     |   None   |     None    |\n",
      "|        Dundee       |   151593   |   None   |     None     |   None   |     None    |\n",
      "|        Poole        |   150092   | 02:19:00 |    178 km    | 02:19:00 |    181 km   |\n",
      "|     Huddersfield    |   149018   | 03:50:00 |    307 km    | 03:05:00 |    332 km   |\n",
      "|         York        |   144202   | 04:05:00 |    326 km    | 02:01:00 |    308 km   |\n",
      "|       Ipswich       |   143768   |   None   |     None     |   None   |     None    |\n",
      "|      Blackpool      |   143101   | 04:29:00 |    401 km    | 03:03:00 |    369 km   |\n",
      "+---------------------+------------+----------+--------------+----------+-------------+\n"
     ]
    }
   ],
   "source": [
    "m.show_top_cities()"
   ]
  }
 ],
 "metadata": {
  "kernelspec": {
   "display_name": "Python 3",
   "language": "python",
   "name": "python3"
  },
  "language_info": {
   "codemirror_mode": {
    "name": "ipython",
    "version": 3
   },
   "file_extension": ".py",
   "mimetype": "text/x-python",
   "name": "python",
   "nbconvert_exporter": "python",
   "pygments_lexer": "ipython3",
   "version": "3.6.6"
  }
 },
 "nbformat": 4,
 "nbformat_minor": 2
}
