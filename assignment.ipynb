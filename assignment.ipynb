{
 "cells": [
  {
   "cell_type": "code",
   "execution_count": 1,
   "metadata": {},
   "outputs": [],
   "source": [
    "from mymodule import MyClass\n",
    "m = MyClass()"
   ]
  },
  {
   "cell_type": "code",
   "execution_count": 2,
   "metadata": {},
   "outputs": [
    {
     "name": "stderr",
     "output_type": "stream",
     "text": [
      "Found 44 cities\n"
     ]
    }
   ],
   "source": [
    "m.retrieve_cities(country='GB',percentile=5)"
   ]
  },
  {
   "cell_type": "code",
   "execution_count": 3,
   "metadata": {},
   "outputs": [
    {
     "name": "stderr",
     "output_type": "stream",
     "text": [
      "Travel times and distances obtained\n"
     ]
    }
   ],
   "source": [
    "m.calculate_travel()"
   ]
  },
  {
   "cell_type": "code",
   "execution_count": 4,
   "metadata": {},
   "outputs": [
    {
     "name": "stdout",
     "output_type": "stream",
     "text": [
      "+---------------------+------------+----------+-------------+----------+--------------+-------+\n",
      "|         City        | Population | pb_time  | pb_distance | car_time | car_distance | ratio |\n",
      "+---------------------+------------+----------+-------------+----------+--------------+-------+\n",
      "|        London       |  7421228   | 00:03:00 |    0.5 km   | 00:11:00 |    3.1 km    |  0.27 |\n",
      "|      Birmingham     |   984336   |   None   |     None    |   None   |     None     |  None |\n",
      "|       Glasgow       |   610271   | 04:50:00 |    650 km   | 06:58:00 |    667 km    |  0.69 |\n",
      "|       Belfast       |   585994   | 10:56:00 |    871 km   | 10:11:00 |    783 km    |  1.07 |\n",
      "|      Liverpool      |   468946   | 02:34:00 |    381 km   | 04:12:00 |    358 km    |  0.61 |\n",
      "|        Leeds        |   455124   | 02:35:00 |    304 km   | 03:44:00 |    316 km    |  0.69 |\n",
      "|      Sheffield      |   447048   | 02:32:00 |    270 km   | 03:20:00 |    271 km    |  0.76 |\n",
      "|      Edinburgh      |   435794   | 04:44:00 |    637 km   | 07:27:00 |    669 km    |  0.64 |\n",
      "|       Bristol       |   430714   |   None   |     None    |   None   |     None     |  None |\n",
      "|      Manchester     |   395516   | 02:23:00 |    299 km   | 04:02:00 |    338 km    |  0.59 |\n",
      "|      Leicester      |   339240   | 01:36:00 |    164 km   | 02:16:00 |    164 km    |  0.71 |\n",
      "|       Coventry      |   308314   | 01:17:00 |    155 km   | 02:05:00 |    176 km    |  0.62 |\n",
      "|  Kingston upon Hull |   302297   | 03:20:00 |    321 km   | 04:01:00 |    303 km    |  0.83 |\n",
      "|       Cardiff       |   302142   | 02:34:00 |    240 km   | 02:50:00 |    243 km    |  0.91 |\n",
      "|       Bradford      |   299310   |   None   |     None    |   None   |     None     |  None |\n",
      "|    Stoke-on-Trent   |   260420   | 01:48:00 |    239 km   | 03:01:00 |    271 km    |  0.6  |\n",
      "|    Wolverhampton    |   252792   | 01:55:00 |    243 km   | 02:46:00 |    226 km    |  0.69 |\n",
      "|       Plymouth      |   247298   |   None   |     None    |   None   |     None     |  None |\n",
      "|      Nottingham     |   246655   | 02:01:00 |    208 km   | 02:41:00 |    206 km    |  0.75 |\n",
      "|     Southampton     |   246201   | 01:34:00 |    126 km   | 01:41:00 |    126 km    |  0.93 |\n",
      "|       Reading       |   244071   |   None   |     None    |   None   |     None     |  None |\n",
      "|        Derby        |   235029   |   None   |     None    |   None   |     None     |  None |\n",
      "|        Dudley       |   199060   |   None   |     None    |   None   |     None     |  None |\n",
      "|     Northampton     |   197323   |   None   |     None    |   None   |     None     |  None |\n",
      "|      Portsmouth     |   194151   |   None   |     None    |   None   |     None     |  None |\n",
      "|        Luton        |   193670   | 00:51:00 |   51.4 km   | 01:04:00 |   55.2 km    |  0.8  |\n",
      "| Newcastle upon Tyne |   192382   | 03:25:00 |    437 km   | 05:14:00 |    445 km    |  0.65 |\n",
      "|       Preston       |   190688   |   None   |     None    |   None   |     None     |  None |\n",
      "|       Aberdeen      |   183791   | 08:14:00 |    899 km   | 09:17:00 |    881 km    |  0.89 |\n",
      "|      Sunderland     |   177965   | 03:36:00 |    456 km   | 05:07:00 |    435 km    |  0.7  |\n",
      "|       Norwich       |   177636   |   None   |     None    |   None   |     None     |  None |\n",
      "|     Bournemouth     |   175017   | 02:04:00 |    172 km   | 02:07:00 |    172 km    |  0.98 |\n",
      "|       Walsall       |   172142   | 02:16:00 |    203 km   | 02:34:00 |    215 km    |  0.88 |\n",
      "|       Swansea       |   170885   | 03:29:00 |    313 km   | 03:29:00 |    302 km    |  1.0  |\n",
      "|   Southend-on-Sea   |   163378   | 01:18:00 |   63.0 km   | 01:22:00 |   70.5 km    |  0.95 |\n",
      "|       Swindon       |   162439   | 01:28:00 |    131 km   | 01:43:00 |    128 km    |  0.85 |\n",
      "|        Oxford       |   154567   | 01:33:00 |    112 km   | 01:27:00 |   92.9 km    |  1.07 |\n",
      "|        Dundee       |   151593   |   None   |     None    |   None   |     None     |  None |\n",
      "|        Poole        |   150092   | 02:31:00 |    181 km   | 02:19:00 |    178 km    |  1.09 |\n",
      "|     Huddersfield    |   149018   | 03:04:00 |    332 km   | 03:50:00 |    307 km    |  0.8  |\n",
      "|         York        |   144202   |   None   |     None    |   None   |     None     |  None |\n",
      "|       Ipswich       |   143768   | 01:40:00 |    119 km   | 01:58:00 |    135 km    |  0.85 |\n",
      "|      Blackpool      |   143101   | 03:06:00 |    369 km   | 04:29:00 |    401 km    |  0.69 |\n",
      "+---------------------+------------+----------+-------------+----------+--------------+-------+\n"
     ]
    }
   ],
   "source": [
    "m.show_top_cities()"
   ]
  }
 ],
 "metadata": {
  "kernelspec": {
   "display_name": "Python 3",
   "language": "python",
   "name": "python3"
  },
  "language_info": {
   "codemirror_mode": {
    "name": "ipython",
    "version": 3
   },
   "file_extension": ".py",
   "mimetype": "text/x-python",
   "name": "python",
   "nbconvert_exporter": "python",
   "pygments_lexer": "ipython3",
   "version": "3.6.6"
  }
 },
 "nbformat": 4,
 "nbformat_minor": 2
}
